{
 "cells": [
  {
   "cell_type": "code",
   "execution_count": 1,
   "metadata": {},
   "outputs": [],
   "source": [
    "from stanfordcorenlp import StanfordCoreNLP\n",
    "import logging\n",
    "import json\n",
    "\n",
    "nlp = StanfordCoreNLP('http://localhost', 9001, timeout=30000)"
   ]
  },
  {
   "cell_type": "code",
   "execution_count": 6,
   "metadata": {},
   "outputs": [
    {
     "data": {
      "text/plain": [
       "[('search', 'NN'),\n",
       " ('Questions', 'NNS'),\n",
       " ('about', 'IN'),\n",
       " ('search', 'NN'),\n",
       " ('algorithm', 'NN'),\n",
       " ('mechanics', 'NNS'),\n",
       " ('and', 'CC'),\n",
       " ('implementation', 'NN')]"
      ]
     },
     "execution_count": 6,
     "metadata": {},
     "output_type": "execute_result"
    }
   ],
   "source": [
    "# Stanford test\n",
    "text = 'search Questions about search algorithm mechanics and implementation'\n",
    "nlp.pos_tag(text)\n",
    "# nlp.pos_tag('commercial general-purpose statistical software'.lower())\n",
    "# nlp.dependency_parse(text)\n",
    "# nlp.annotate(text)"
   ]
  },
  {
   "cell_type": "code",
   "execution_count": 2,
   "metadata": {},
   "outputs": [],
   "source": [
    "nn = ['NN', 'NNP', 'NNS']"
   ]
  },
  {
   "cell_type": "code",
   "execution_count": 3,
   "metadata": {},
   "outputs": [],
   "source": [
    "with open('/home/tanyixin/ISWC_2020/data/tags_clean.txt', 'r') as f:\n",
    "    raw_list = f.readlines()"
   ]
  },
  {
   "cell_type": "code",
   "execution_count": 4,
   "metadata": {},
   "outputs": [],
   "source": [
    "f1 = open('/home/tanyixin/ISWC_2020/data/candidate_nouns.txt', 'w')\n",
    "\n",
    "with open('/home/tanyixin/ISWC_2020/data/tags_clean_pos.txt', 'w') as f:\n",
    "    for line in raw_list:\n",
    "        line = line.strip().split(' ')\n",
    "        if len(line) <= 2:\n",
    "            continue\n",
    "        pos_definition = line[0]\n",
    "        candidate = line[0]\n",
    "        definition = ' '.join(x for x in line[1:])\n",
    "        pos_tag = nlp.pos_tag(definition)\n",
    "        \n",
    "        for token in pos_tag:\n",
    "            pos_definition = pos_definition + ' ' + token[1]\n",
    "            if token[1] in nn:\n",
    "                candidate = candidate + ' ' + token[0]\n",
    "            \n",
    "        f.write(pos_definition + '\\n')\n",
    "        f1.write(candidate + '\\n')\n",
    "        \n",
    "f1.close()"
   ]
  },
  {
   "cell_type": "code",
   "execution_count": null,
   "metadata": {},
   "outputs": [],
   "source": []
  }
 ],
 "metadata": {
  "kernelspec": {
   "display_name": "Python 3",
   "language": "python",
   "name": "python3"
  },
  "language_info": {
   "codemirror_mode": {
    "name": "ipython",
    "version": 3
   },
   "file_extension": ".py",
   "mimetype": "text/x-python",
   "name": "python",
   "nbconvert_exporter": "python",
   "pygments_lexer": "ipython3",
   "version": "3.5.2"
  }
 },
 "nbformat": 4,
 "nbformat_minor": 2
}
